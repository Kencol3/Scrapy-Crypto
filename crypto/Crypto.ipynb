{
 "cells": [
  {
   "cell_type": "code",
   "execution_count": 228,
   "metadata": {
    "collapsed": true
   },
   "outputs": [],
   "source": [
    "import pandas as pd\n",
    "import numpy as np\n",
    "crypto = pd.read_csv('Coins.csv', sep = '\\t', header = None, names = ['Name', 'Symbol', 'MCap', 'Price', 'Vol', 'CSupply', 'DayChg'])"
   ]
  },
  {
   "cell_type": "code",
   "execution_count": 229,
   "metadata": {},
   "outputs": [
    {
     "data": {
      "text/plain": [
       "(1342, 7)"
      ]
     },
     "execution_count": 229,
     "metadata": {},
     "output_type": "execute_result"
    }
   ],
   "source": [
    "crypto.shape"
   ]
  },
  {
   "cell_type": "code",
   "execution_count": 230,
   "metadata": {
    "collapsed": true
   },
   "outputs": [],
   "source": [
    "#turn ?'s into NA's\n",
    "crypto2 = crypto.replace(to_replace= '?',value=np.nan)"
   ]
  },
  {
   "cell_type": "code",
   "execution_count": 231,
   "metadata": {},
   "outputs": [
    {
     "data": {
      "text/plain": [
       "(243, 7)"
      ]
     },
     "execution_count": 231,
     "metadata": {},
     "output_type": "execute_result"
    }
   ],
   "source": [
    "np.sum(crypto2.isnull())\n",
    "mask = crypto2.isnull().any(axis=1)\n",
    "crypto2.loc[mask,:].shape  #Find coins without data"
   ]
  },
  {
   "cell_type": "code",
   "execution_count": 232,
   "metadata": {
    "collapsed": true
   },
   "outputs": [],
   "source": [
    "crypto2 = crypto2.dropna() #Remove crypto without information"
   ]
  },
  {
   "cell_type": "code",
   "execution_count": 233,
   "metadata": {
    "collapsed": true
   },
   "outputs": [],
   "source": [
    "crypto2['MCap'] = crypto2['MCap'].astype(float) #change type to float"
   ]
  },
  {
   "cell_type": "code",
   "execution_count": 234,
   "metadata": {
    "collapsed": true
   },
   "outputs": [],
   "source": [
    "crypto_sorted = crypto2.sort_values(['MCap'], ascending = False)"
   ]
  },
  {
   "cell_type": "code",
   "execution_count": 235,
   "metadata": {},
   "outputs": [
    {
     "data": {
      "text/plain": [
       "pandas.core.frame.DataFrame"
      ]
     },
     "execution_count": 235,
     "metadata": {},
     "output_type": "execute_result"
    }
   ],
   "source": [
    "crypto_sorted = crypto_sorted.reset_index()\n",
    "type(crypto_sorted)"
   ]
  },
  {
   "cell_type": "code",
   "execution_count": 236,
   "metadata": {
    "collapsed": true
   },
   "outputs": [],
   "source": [
    "crypto = crypto_sorted.iloc[:,1:8]"
   ]
  },
  {
   "cell_type": "code",
   "execution_count": 237,
   "metadata": {
    "collapsed": true
   },
   "outputs": [],
   "source": [
    "crypto['Price'] = crypto['Price'].astype(float)"
   ]
  },
  {
   "cell_type": "code",
   "execution_count": 238,
   "metadata": {
    "collapsed": true
   },
   "outputs": [],
   "source": [
    "crypto['CSupply'] = crypto['CSupply'].astype(float)"
   ]
  },
  {
   "cell_type": "code",
   "execution_count": 239,
   "metadata": {
    "collapsed": true
   },
   "outputs": [],
   "source": [
    "crypto['DayChg'] = crypto['DayChg'].astype(float)"
   ]
  },
  {
   "cell_type": "code",
   "execution_count": 240,
   "metadata": {
    "collapsed": true
   },
   "outputs": [],
   "source": [
    "crypto = crypto[crypto.astype(str).ne('None').all(1)]"
   ]
  },
  {
   "cell_type": "code",
   "execution_count": 241,
   "metadata": {
    "collapsed": true
   },
   "outputs": [],
   "source": [
    "crypto['Vol'] = crypto['Vol'].astype(float)"
   ]
  },
  {
   "cell_type": "code",
   "execution_count": 242,
   "metadata": {},
   "outputs": [
    {
     "data": {
      "text/plain": [
       "(1089, 7)"
      ]
     },
     "execution_count": 242,
     "metadata": {},
     "output_type": "execute_result"
    }
   ],
   "source": [
    "crypto.shape"
   ]
  },
  {
   "cell_type": "code",
   "execution_count": 243,
   "metadata": {},
   "outputs": [
    {
     "data": {
      "text/plain": [
       "count    1.089000e+03\n",
       "mean     2.260571e+07\n",
       "std      2.871127e+08\n",
       "min      0.000000e+00\n",
       "25%      1.292850e+03\n",
       "50%      1.902900e+04\n",
       "75%      4.202040e+05\n",
       "max      7.430620e+09\n",
       "Name: Vol, dtype: float64"
      ]
     },
     "execution_count": 243,
     "metadata": {},
     "output_type": "execute_result"
    }
   ],
   "source": [
    "crypto['Vol'].describe() #problem in volume, some are not trading"
   ]
  },
  {
   "cell_type": "code",
   "execution_count": 244,
   "metadata": {
    "collapsed": true
   },
   "outputs": [],
   "source": [
    "crypto['NoVol'] = crypto['Vol'] == 0 #Remove columns with volume is 0"
   ]
  },
  {
   "cell_type": "code",
   "execution_count": 245,
   "metadata": {
    "collapsed": true
   },
   "outputs": [],
   "source": [
    "crypto = crypto[crypto['NoVol'] == False] "
   ]
  },
  {
   "cell_type": "code",
   "execution_count": 246,
   "metadata": {
    "collapsed": true
   },
   "outputs": [],
   "source": [
    "crypto = crypto.iloc[:,:7] #remove boolean test on volume"
   ]
  },
  {
   "cell_type": "code",
   "execution_count": 247,
   "metadata": {},
   "outputs": [
    {
     "data": {
      "text/html": [
       "<div>\n",
       "<style>\n",
       "    .dataframe thead tr:only-child th {\n",
       "        text-align: right;\n",
       "    }\n",
       "\n",
       "    .dataframe thead th {\n",
       "        text-align: left;\n",
       "    }\n",
       "\n",
       "    .dataframe tbody tr th {\n",
       "        vertical-align: top;\n",
       "    }\n",
       "</style>\n",
       "<table border=\"1\" class=\"dataframe\">\n",
       "  <thead>\n",
       "    <tr style=\"text-align: right;\">\n",
       "      <th></th>\n",
       "      <th>MCap</th>\n",
       "      <th>Price</th>\n",
       "      <th>Vol</th>\n",
       "      <th>CSupply</th>\n",
       "      <th>DayChg</th>\n",
       "    </tr>\n",
       "  </thead>\n",
       "  <tbody>\n",
       "    <tr>\n",
       "      <th>count</th>\n",
       "      <td>1.081000e+03</td>\n",
       "      <td>1081.000000</td>\n",
       "      <td>1.081000e+03</td>\n",
       "      <td>1.081000e+03</td>\n",
       "      <td>1081.000000</td>\n",
       "    </tr>\n",
       "    <tr>\n",
       "      <th>mean</th>\n",
       "      <td>3.739006e+08</td>\n",
       "      <td>1134.019691</td>\n",
       "      <td>2.277300e+07</td>\n",
       "      <td>8.832790e+09</td>\n",
       "      <td>-3.335227</td>\n",
       "    </tr>\n",
       "    <tr>\n",
       "      <th>std</th>\n",
       "      <td>5.131161e+09</td>\n",
       "      <td>26522.151486</td>\n",
       "      <td>2.881675e+08</td>\n",
       "      <td>1.189271e+11</td>\n",
       "      <td>32.144395</td>\n",
       "    </tr>\n",
       "    <tr>\n",
       "      <th>min</th>\n",
       "      <td>9.938719e+00</td>\n",
       "      <td>0.000003</td>\n",
       "      <td>1.884260e-01</td>\n",
       "      <td>7.826400e-02</td>\n",
       "      <td>-51.170000</td>\n",
       "    </tr>\n",
       "    <tr>\n",
       "      <th>25%</th>\n",
       "      <td>5.955331e+05</td>\n",
       "      <td>0.022557</td>\n",
       "      <td>1.354520e+03</td>\n",
       "      <td>6.651808e+06</td>\n",
       "      <td>-10.560000</td>\n",
       "    </tr>\n",
       "    <tr>\n",
       "      <th>50%</th>\n",
       "      <td>5.656046e+06</td>\n",
       "      <td>0.147443</td>\n",
       "      <td>1.959520e+04</td>\n",
       "      <td>3.033334e+07</td>\n",
       "      <td>-5.860000</td>\n",
       "    </tr>\n",
       "    <tr>\n",
       "      <th>75%</th>\n",
       "      <td>2.951783e+07</td>\n",
       "      <td>0.867038</td>\n",
       "      <td>4.314040e+05</td>\n",
       "      <td>1.578613e+08</td>\n",
       "      <td>-1.010000</td>\n",
       "    </tr>\n",
       "    <tr>\n",
       "      <th>max</th>\n",
       "      <td>1.403039e+11</td>\n",
       "      <td>814542.000000</td>\n",
       "      <td>7.430620e+09</td>\n",
       "      <td>2.714466e+12</td>\n",
       "      <td>665.900000</td>\n",
       "    </tr>\n",
       "  </tbody>\n",
       "</table>\n",
       "</div>"
      ],
      "text/plain": [
       "               MCap          Price           Vol       CSupply       DayChg\n",
       "count  1.081000e+03    1081.000000  1.081000e+03  1.081000e+03  1081.000000\n",
       "mean   3.739006e+08    1134.019691  2.277300e+07  8.832790e+09    -3.335227\n",
       "std    5.131161e+09   26522.151486  2.881675e+08  1.189271e+11    32.144395\n",
       "min    9.938719e+00       0.000003  1.884260e-01  7.826400e-02   -51.170000\n",
       "25%    5.955331e+05       0.022557  1.354520e+03  6.651808e+06   -10.560000\n",
       "50%    5.656046e+06       0.147443  1.959520e+04  3.033334e+07    -5.860000\n",
       "75%    2.951783e+07       0.867038  4.314040e+05  1.578613e+08    -1.010000\n",
       "max    1.403039e+11  814542.000000  7.430620e+09  2.714466e+12   665.900000"
      ]
     },
     "execution_count": 247,
     "metadata": {},
     "output_type": "execute_result"
    }
   ],
   "source": [
    "crypto.describe() #check for empty volumes"
   ]
  },
  {
   "cell_type": "code",
   "execution_count": 248,
   "metadata": {},
   "outputs": [],
   "source": [
    "crypto = crypto.sort_values(['Price'], ascending = False)\n",
    "crypto = crypto.drop([780,1072,642])"
   ]
  },
  {
   "cell_type": "code",
   "execution_count": 249,
   "metadata": {
    "collapsed": true
   },
   "outputs": [],
   "source": [
    "crypto = crypto.sort_values(['MCap'], ascending = False)"
   ]
  },
  {
   "cell_type": "code",
   "execution_count": 250,
   "metadata": {
    "collapsed": true
   },
   "outputs": [],
   "source": [
    "crypto = crypto.reset_index()"
   ]
  },
  {
   "cell_type": "code",
   "execution_count": 251,
   "metadata": {},
   "outputs": [],
   "source": [
    "crypto = crypto.iloc[:,1:8] #Remove Index again"
   ]
  },
  {
   "cell_type": "code",
   "execution_count": 255,
   "metadata": {},
   "outputs": [],
   "source": [
    "crypto['MCap'] = crypto['MCap']/1000000000"
   ]
  },
  {
   "cell_type": "code",
   "execution_count": 253,
   "metadata": {
    "collapsed": true
   },
   "outputs": [],
   "source": [
    "%matplotlib inline \n",
    "from matplotlib import pyplot as plt\n",
    "plt.style.use('ggplot') #plot"
   ]
  },
  {
   "cell_type": "code",
   "execution_count": 256,
   "metadata": {
    "collapsed": true
   },
   "outputs": [],
   "source": [
    "P = crypto['Price']\n",
    "M = crypto['MCap']\n",
    "V = crypto['Vol']\n",
    "C = crypto['CSupply']\n",
    "\n",
    "First = crypto['MCap'].max()\n",
    "First_name = crypto.loc[crypto.MCap == First, 'Name'].tolist()[0]\n",
    "First_price = crypto.loc[crypto.MCap == First, 'Price']\n",
    "\n",
    "Second = crypto['MCap'][1] #second largest MCap\n",
    "Second_name = crypto.loc[crypto.MCap == Second, 'Name'].tolist()[0]\n",
    "Second_price = crypto.loc[crypto.MCap == Second, 'Price']\n",
    "\n",
    "Third = crypto['MCap'][2] #third largest MCap\n",
    "Third_name = crypto.loc[crypto.MCap == Third, 'Name'].tolist()[0]\n",
    "Third_price = crypto.loc[crypto.MCap == Third, 'Price']\n",
    "\n",
    "Fourth = crypto['MCap'][3] #fourth largest MCap\n",
    "Fourth_name = crypto.loc[crypto.MCap == Fourth, 'Name'].tolist()[0]\n",
    "Fourth_price = crypto.loc[crypto.MCap == Fourth, 'Price']\n",
    "\n",
    "Fifth = crypto['MCap'][4] #Fifth largest MCap\n",
    "Fifth_name = crypto.loc[crypto.MCap == Fifth, 'Name'].tolist()[0]\n",
    "Fifth_price = crypto.loc[crypto.MCap == Fifth, 'Price']"
   ]
  },
  {
   "cell_type": "code",
   "execution_count": 258,
   "metadata": {},
   "outputs": [
    {
     "data": {
      "text/plain": [
       "Text(0.385368,9.99146,'   Cardano  ')"
      ]
     },
     "execution_count": 258,
     "metadata": {},
     "output_type": "execute_result"
    },
    {
     "data": {
      "image/png": "[encoded data removed]",
      "text/plain": [
       "<matplotlib.figure.Figure at 0x12582efd0>"
      ]
     },
     "metadata": {},
     "output_type": "display_data"
    }
   ],
   "source": [
    "plt.plot(P, M, '.')\n",
    "plt.xlabel('Price ($)')\n",
    "plt.ylabel('Market Cap ($bn)')\n",
    "plt.title('Price vs Market Cap')\n",
    "plt.text(First_price, First, '%s  ' %(First_name),\n",
    "         color = 'black', size = 10, fontweight = 'bold', \n",
    "         verticalalignment = 'center', horizontalalignment = 'right')\n",
    "plt.text(Second_price, Second, '   %s  ' %(Second_name),\n",
    "         color = 'black', size = 10, fontweight = 'bold', \n",
    "         verticalalignment = 'center', horizontalalignment = 'left')\n",
    "plt.text(Third_price, Third, '   %s  ' %(Third_name),\n",
    "         color = 'black', size = 10, fontweight = 'bold', \n",
    "         verticalalignment = 'center', horizontalalignment = 'left')\n",
    "plt.text(Fourth_price, Fourth, '   %s  ' %(Fourth_name),\n",
    "         color = 'black', size = 10, fontweight = 'bold', \n",
    "         verticalalignment = 'center', horizontalalignment = 'left')\n",
    "plt.text(Fifth_price, Fifth, '   %s  ' %(Fifth_name),\n",
    "         color = 'black', size = 10, fontweight = 'bold', \n",
    "         verticalalignment = 'center', horizontalalignment = 'left')"
   ]
  },
  {
   "cell_type": "code",
   "execution_count": 265,
   "metadata": {},
   "outputs": [
    {
     "data": {
      "text/plain": [
       "(1078, 7)"
      ]
     },
     "execution_count": 265,
     "metadata": {},
     "output_type": "execute_result"
    }
   ],
   "source": [
    "#Not all the coins have massive market caps\n",
    "#Of the 1,078 coins, the vast majority are below $10mn\n",
    "crypto.shape"
   ]
  },
  {
   "cell_type": "code",
   "execution_count": 261,
   "metadata": {},
   "outputs": [
    {
     "data": {
      "text/plain": [
       "Text(0.5,1,'Histogram of Coins with Market Cap Below $10mn')"
      ]
     },
     "execution_count": 261,
     "metadata": {},
     "output_type": "execute_result"
    },
    {
     "data": {
      "image/png": "[encoded data removed]",
      "text/plain": [
       "<matplotlib.figure.Figure at 0x126609be0>"
      ]
     },
     "metadata": {},
     "output_type": "display_data"
    }
   ],
   "source": [
    "plt.hist(crypto['MCap'][crypto.MCap <= 0.01], bins= 10, edgecolor = 'k')\n",
    "plt.xlabel('Market Cap ($bn)')\n",
    "plt.ylabel('Count')\n",
    "plt.title('Histogram of Coins with Market Cap Below $10mn')"
   ]
  },
  {
   "cell_type": "code",
   "execution_count": 262,
   "metadata": {},
   "outputs": [],
   "source": [
    "#Let's look at only the largest coins outstanding\n",
    "Top = crypto[crypto['MCap'] > 1] #W/ market caps above $1bn\n",
    "Top.index = Top['Name']\n",
    "Top = Top.iloc[:,1:7]"
   ]
  },
  {
   "cell_type": "code",
   "execution_count": 224,
   "metadata": {
    "collapsed": true
   },
   "outputs": [],
   "source": []
  },
  {
   "cell_type": "code",
   "execution_count": 264,
   "metadata": {},
   "outputs": [
    {
     "data": {
      "text/plain": [
       "Text(0.5,1,'Top 10 Crypto Currencies')"
      ]
     },
     "execution_count": 264,
     "metadata": {},
     "output_type": "execute_result"
    },
    {
     "data": {
      "image/png": "[encoded data removed]",
      "text/plain": [
       "<matplotlib.figure.Figure at 0x1266d20f0>"
      ]
     },
     "metadata": {},
     "output_type": "display_data"
    }
   ],
   "source": [
    "Top['MCap'].sort_values(ascending = False).head(10).plot.bar()\n",
    "plt.ylabel('Market Cap (USDbn)')\n",
    "plt.title('Top 10 Crypto Currencies')"
   ]
  },
  {
   "cell_type": "code",
   "execution_count": 168,
   "metadata": {
    "collapsed": true
   },
   "outputs": [],
   "source": []
  },
  {
   "cell_type": "code",
   "execution_count": 170,
   "metadata": {
    "collapsed": true
   },
   "outputs": [],
   "source": []
  },
  {
   "cell_type": "code",
   "execution_count": null,
   "metadata": {},
   "outputs": [],
   "source": []
  },
  {
   "cell_type": "code",
   "execution_count": null,
   "metadata": {},
   "outputs": [],
   "source": []
  },
  {
   "cell_type": "code",
   "execution_count": null,
   "metadata": {},
   "outputs": [],
   "source": []
  },
  {
   "cell_type": "code",
   "execution_count": null,
   "metadata": {},
   "outputs": [],
   "source": []
  },
  {
   "cell_type": "code",
   "execution_count": null,
   "metadata": {},
   "outputs": [],
   "source": []
  },
  {
   "cell_type": "code",
   "execution_count": null,
   "metadata": {
    "collapsed": true
   },
   "outputs": [],
   "source": []
  }
 ],
 "metadata": {
  "kernelspec": {
   "display_name": "Python 3",
   "language": "python",
   "name": "python3"
  },
  "language_info": {
   "codemirror_mode": {
    "name": "ipython",
    "version": 3
   },
   "file_extension": ".py",
   "mimetype": "text/x-python",
   "name": "python",
   "nbconvert_exporter": "python",
   "pygments_lexer": "ipython3",
   "version": "3.6.3"
  }
 },
 "nbformat": 4,
 "nbformat_minor": 2
}
