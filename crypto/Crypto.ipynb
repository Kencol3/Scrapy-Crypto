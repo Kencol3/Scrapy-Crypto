{
 "cells": [
  {
   "cell_type": "code",
   "execution_count": 94,
   "metadata": {
    "collapsed": true
   },
   "outputs": [],
   "source": [
    "import pandas as pd\n",
    "import numpy as np\n",
    "crypto = pd.read_csv('Coins.csv', sep = '\\t', header = None, names = ['Name', 'Symbol', 'MCap', 'Price', 'Vol', 'CSupply', 'DayChg'])"
   ]
  },
  {
   "cell_type": "code",
   "execution_count": 44,
   "metadata": {},
   "outputs": [
    {
     "data": {
      "text/plain": [
       "(1334, 7)"
      ]
     },
     "execution_count": 44,
     "metadata": {},
     "output_type": "execute_result"
    }
   ],
   "source": [
    "crypto.shape"
   ]
  },
  {
   "cell_type": "code",
   "execution_count": 45,
   "metadata": {
    "collapsed": true
   },
   "outputs": [],
   "source": [
    "#turn ?'s into NA's\n",
    "crypto2 = crypto.replace(to_replace= '?',value=np.nan)"
   ]
  },
  {
   "cell_type": "code",
   "execution_count": 46,
   "metadata": {},
   "outputs": [
    {
     "data": {
      "text/plain": [
       "(230, 7)"
      ]
     },
     "execution_count": 46,
     "metadata": {},
     "output_type": "execute_result"
    }
   ],
   "source": [
    "np.sum(crypto2.isnull())\n",
    "mask = crypto2.isnull().any(axis=1)\n",
    "crypto2.loc[mask,:].shape  #Find coins without data"
   ]
  },
  {
   "cell_type": "code",
   "execution_count": 47,
   "metadata": {
    "collapsed": true
   },
   "outputs": [],
   "source": [
    "crypto2 = crypto2.dropna() #Remove crypto without information"
   ]
  },
  {
   "cell_type": "code",
   "execution_count": 48,
   "metadata": {
    "collapsed": true
   },
   "outputs": [],
   "source": [
    "crypto2['MCap'] = crypto2['MCap'].astype(float) #change type to float"
   ]
  },
  {
   "cell_type": "code",
   "execution_count": 49,
   "metadata": {
    "collapsed": true
   },
   "outputs": [],
   "source": [
    "crypto_sorted = crypto2.sort_values(['MCap'], ascending = False)"
   ]
  },
  {
   "cell_type": "code",
   "execution_count": 50,
   "metadata": {},
   "outputs": [
    {
     "data": {
      "text/plain": [
       "pandas.core.frame.DataFrame"
      ]
     },
     "execution_count": 50,
     "metadata": {},
     "output_type": "execute_result"
    }
   ],
   "source": [
    "crypto_sorted = crypto_sorted.reset_index()\n",
    "type(crypto_sorted)"
   ]
  },
  {
   "cell_type": "code",
   "execution_count": 51,
   "metadata": {
    "collapsed": true
   },
   "outputs": [],
   "source": [
    "crypto = crypto_sorted.iloc[:,1:8]"
   ]
  },
  {
   "cell_type": "code",
   "execution_count": 52,
   "metadata": {
    "collapsed": true
   },
   "outputs": [],
   "source": [
    "crypto['Price'] = crypto['Price'].astype(float)"
   ]
  },
  {
   "cell_type": "code",
   "execution_count": 53,
   "metadata": {
    "collapsed": true
   },
   "outputs": [],
   "source": [
    "crypto['CSupply'] = crypto['CSupply'].astype(float)"
   ]
  },
  {
   "cell_type": "code",
   "execution_count": 54,
   "metadata": {
    "collapsed": true
   },
   "outputs": [],
   "source": [
    "crypto['DayChg'] = crypto['DayChg'].astype(float)"
   ]
  },
  {
   "cell_type": "code",
   "execution_count": 55,
   "metadata": {
    "collapsed": true
   },
   "outputs": [],
   "source": [
    "crypto = crypto[crypto.astype(str).ne('None').all(1)] #remove observations of none"
   ]
  },
  {
   "cell_type": "code",
   "execution_count": 56,
   "metadata": {
    "collapsed": true
   },
   "outputs": [],
   "source": [
    "crypto['Vol'] = crypto['Vol'].astype(float)"
   ]
  },
  {
   "cell_type": "code",
   "execution_count": 57,
   "metadata": {},
   "outputs": [
    {
     "data": {
      "text/plain": [
       "(1103, 7)"
      ]
     },
     "execution_count": 57,
     "metadata": {},
     "output_type": "execute_result"
    }
   ],
   "source": [
    "crypto.shape"
   ]
  },
  {
   "cell_type": "code",
   "execution_count": 58,
   "metadata": {},
   "outputs": [
    {
     "data": {
      "text/plain": [
       "count    1.103000e+03\n",
       "mean     2.051018e+07\n",
       "std      2.729665e+08\n",
       "min      0.000000e+00\n",
       "25%      1.432010e+03\n",
       "50%      2.140220e+04\n",
       "75%      3.633690e+05\n",
       "max      7.594760e+09\n",
       "Name: Vol, dtype: float64"
      ]
     },
     "execution_count": 58,
     "metadata": {},
     "output_type": "execute_result"
    }
   ],
   "source": [
    "crypto['Vol'].describe() #problem in volume, some are not trading"
   ]
  },
  {
   "cell_type": "code",
   "execution_count": 59,
   "metadata": {
    "collapsed": true
   },
   "outputs": [],
   "source": [
    "crypto['NoVol'] = crypto['Vol'] == 0 #Remove columns with volume is 0"
   ]
  },
  {
   "cell_type": "code",
   "execution_count": 60,
   "metadata": {
    "collapsed": true
   },
   "outputs": [],
   "source": [
    "crypto = crypto[crypto['NoVol'] == False] "
   ]
  },
  {
   "cell_type": "code",
   "execution_count": 61,
   "metadata": {
    "collapsed": true
   },
   "outputs": [],
   "source": [
    "crypto = crypto.iloc[:,:7] #remove boolean test on volume"
   ]
  },
  {
   "cell_type": "code",
   "execution_count": 62,
   "metadata": {},
   "outputs": [
    {
     "data": {
      "text/html": [
       "<div>\n",
       "<style>\n",
       "    .dataframe thead tr:only-child th {\n",
       "        text-align: right;\n",
       "    }\n",
       "\n",
       "    .dataframe thead th {\n",
       "        text-align: left;\n",
       "    }\n",
       "\n",
       "    .dataframe tbody tr th {\n",
       "        vertical-align: top;\n",
       "    }\n",
       "</style>\n",
       "<table border=\"1\" class=\"dataframe\">\n",
       "  <thead>\n",
       "    <tr style=\"text-align: right;\">\n",
       "      <th></th>\n",
       "      <th>MCap</th>\n",
       "      <th>Price</th>\n",
       "      <th>Vol</th>\n",
       "      <th>CSupply</th>\n",
       "      <th>DayChg</th>\n",
       "    </tr>\n",
       "  </thead>\n",
       "  <tbody>\n",
       "    <tr>\n",
       "      <th>count</th>\n",
       "      <td>1.091000e+03</td>\n",
       "      <td>1091.000000</td>\n",
       "      <td>1.091000e+03</td>\n",
       "      <td>1.091000e+03</td>\n",
       "      <td>1091.000000</td>\n",
       "    </tr>\n",
       "    <tr>\n",
       "      <th>mean</th>\n",
       "      <td>4.158370e+08</td>\n",
       "      <td>1223.599651</td>\n",
       "      <td>2.073578e+07</td>\n",
       "      <td>8.909247e+09</td>\n",
       "      <td>8.916164</td>\n",
       "    </tr>\n",
       "    <tr>\n",
       "      <th>std</th>\n",
       "      <td>5.713810e+09</td>\n",
       "      <td>29274.890260</td>\n",
       "      <td>2.744565e+08</td>\n",
       "      <td>1.215642e+11</td>\n",
       "      <td>18.547606</td>\n",
       "    </tr>\n",
       "    <tr>\n",
       "      <th>min</th>\n",
       "      <td>1.148453e+01</td>\n",
       "      <td>0.000003</td>\n",
       "      <td>2.467610e-03</td>\n",
       "      <td>7.826400e-02</td>\n",
       "      <td>-77.222700</td>\n",
       "    </tr>\n",
       "    <tr>\n",
       "      <th>25%</th>\n",
       "      <td>6.303580e+05</td>\n",
       "      <td>0.023842</td>\n",
       "      <td>1.553385e+03</td>\n",
       "      <td>6.609237e+06</td>\n",
       "      <td>2.415770</td>\n",
       "    </tr>\n",
       "    <tr>\n",
       "      <th>50%</th>\n",
       "      <td>5.878902e+06</td>\n",
       "      <td>0.157286</td>\n",
       "      <td>2.319450e+04</td>\n",
       "      <td>3.017886e+07</td>\n",
       "      <td>7.001020</td>\n",
       "    </tr>\n",
       "    <tr>\n",
       "      <th>75%</th>\n",
       "      <td>3.286308e+07</td>\n",
       "      <td>0.882682</td>\n",
       "      <td>3.756745e+05</td>\n",
       "      <td>1.589307e+08</td>\n",
       "      <td>11.768900</td>\n",
       "    </tr>\n",
       "    <tr>\n",
       "      <th>max</th>\n",
       "      <td>1.573660e+11</td>\n",
       "      <td>917738.000000</td>\n",
       "      <td>7.594760e+09</td>\n",
       "      <td>2.863993e+12</td>\n",
       "      <td>215.176000</td>\n",
       "    </tr>\n",
       "  </tbody>\n",
       "</table>\n",
       "</div>"
      ],
      "text/plain": [
       "               MCap          Price           Vol       CSupply       DayChg\n",
       "count  1.091000e+03    1091.000000  1.091000e+03  1.091000e+03  1091.000000\n",
       "mean   4.158370e+08    1223.599651  2.073578e+07  8.909247e+09     8.916164\n",
       "std    5.713810e+09   29274.890260  2.744565e+08  1.215642e+11    18.547606\n",
       "min    1.148453e+01       0.000003  2.467610e-03  7.826400e-02   -77.222700\n",
       "25%    6.303580e+05       0.023842  1.553385e+03  6.609237e+06     2.415770\n",
       "50%    5.878902e+06       0.157286  2.319450e+04  3.017886e+07     7.001020\n",
       "75%    3.286308e+07       0.882682  3.756745e+05  1.589307e+08    11.768900\n",
       "max    1.573660e+11  917738.000000  7.594760e+09  2.863993e+12   215.176000"
      ]
     },
     "execution_count": 62,
     "metadata": {},
     "output_type": "execute_result"
    }
   ],
   "source": [
    "crypto.describe() #check for empty volumes"
   ]
  },
  {
   "cell_type": "code",
   "execution_count": 63,
   "metadata": {
    "collapsed": true
   },
   "outputs": [],
   "source": [
    "crypto = crypto.sort_values(['Price'], ascending = False)\n",
    "crypto = crypto[3:] #Very large outliers"
   ]
  },
  {
   "cell_type": "code",
   "execution_count": 23,
   "metadata": {
    "collapsed": true
   },
   "outputs": [],
   "source": []
  },
  {
   "cell_type": "code",
   "execution_count": 64,
   "metadata": {
    "collapsed": true
   },
   "outputs": [],
   "source": [
    "crypto = crypto.sort_values(['MCap'], ascending = False)"
   ]
  },
  {
   "cell_type": "code",
   "execution_count": 65,
   "metadata": {
    "collapsed": true
   },
   "outputs": [],
   "source": [
    "crypto = crypto.reset_index()"
   ]
  },
  {
   "cell_type": "code",
   "execution_count": 66,
   "metadata": {
    "collapsed": true
   },
   "outputs": [],
   "source": [
    "crypto = crypto.iloc[:,1:8] #Remove Index again"
   ]
  },
  {
   "cell_type": "code",
   "execution_count": 67,
   "metadata": {
    "collapsed": true
   },
   "outputs": [],
   "source": [
    "crypto['MCap'] = crypto['MCap']/1000000000"
   ]
  },
  {
   "cell_type": "code",
   "execution_count": 68,
   "metadata": {
    "collapsed": true
   },
   "outputs": [],
   "source": [
    "%matplotlib inline \n",
    "from matplotlib import pyplot as plt\n",
    "import numpy.matlib\n",
    "import seaborn as sns\n",
    "plt.style.use('ggplot') #plot"
   ]
  },
  {
   "cell_type": "code",
   "execution_count": 69,
   "metadata": {
    "collapsed": true
   },
   "outputs": [],
   "source": [
    "P = crypto['Price']\n",
    "M = crypto['MCap']\n",
    "V = crypto['Vol']\n",
    "C = crypto['CSupply']\n",
    "\n",
    "First = crypto['MCap'].max()\n",
    "First_name = crypto.loc[crypto.MCap == First, 'Name'].tolist()[0]\n",
    "First_price = crypto.loc[crypto.MCap == First, 'Price']\n",
    "\n",
    "Second = crypto['MCap'][1] #second largest MCap\n",
    "Second_name = crypto.loc[crypto.MCap == Second, 'Name'].tolist()[0]\n",
    "Second_price = crypto.loc[crypto.MCap == Second, 'Price']\n",
    "\n",
    "Third = crypto['MCap'][2] #third largest MCap\n",
    "Third_name = crypto.loc[crypto.MCap == Third, 'Name'].tolist()[0]\n",
    "Third_price = crypto.loc[crypto.MCap == Third, 'Price']\n",
    "\n",
    "Fourth = crypto['MCap'][3] #fourth largest MCap\n",
    "Fourth_name = crypto.loc[crypto.MCap == Fourth, 'Name'].tolist()[0]\n",
    "Fourth_price = crypto.loc[crypto.MCap == Fourth, 'Price']\n",
    "\n",
    "Fifth = crypto['MCap'][4] #Fifth largest MCap\n",
    "Fifth_name = crypto.loc[crypto.MCap == Fifth, 'Name'].tolist()[0]\n",
    "Fifth_price = crypto.loc[crypto.MCap == Fifth, 'Price']"
   ]
  },
  {
   "cell_type": "code",
   "execution_count": 258,
   "metadata": {},
   "outputs": [
    {
     "data": {
      "text/plain": [
       "Text(0.385368,9.99146,'   Cardano  ')"
      ]
     },
     "execution_count": 258,
     "metadata": {},
     "output_type": "execute_result"
    },
    {
     "data": {
      "image/png": "[encoded data removed]",
      "text/plain": [
       "<matplotlib.figure.Figure at 0x12582efd0>"
      ]
     },
     "metadata": {},
     "output_type": "display_data"
    }
   ],
   "source": [
    "plt.plot(P, M, '.')\n",
    "plt.xlabel('Price ($)')\n",
    "plt.ylabel('Market Cap ($bn)')\n",
    "plt.title('Price vs Market Cap')\n",
    "plt.text(First_price, First, '%s  ' %(First_name),\n",
    "         color = 'black', size = 10, fontweight = 'bold', \n",
    "         verticalalignment = 'center', horizontalalignment = 'right')\n",
    "plt.text(Second_price, Second, '   %s  ' %(Second_name),\n",
    "         color = 'black', size = 10, fontweight = 'bold', \n",
    "         verticalalignment = 'center', horizontalalignment = 'left')\n",
    "plt.text(Third_price, Third, '   %s  ' %(Third_name),\n",
    "         color = 'black', size = 10, fontweight = 'bold', \n",
    "         verticalalignment = 'center', horizontalalignment = 'left')\n",
    "plt.text(Fourth_price, Fourth, '   %s  ' %(Fourth_name),\n",
    "         color = 'black', size = 10, fontweight = 'bold', \n",
    "         verticalalignment = 'center', horizontalalignment = 'left')\n",
    "plt.text(Fifth_price, Fifth, '   %s  ' %(Fifth_name),\n",
    "         color = 'black', size = 10, fontweight = 'bold', \n",
    "         verticalalignment = 'center', horizontalalignment = 'left')"
   ]
  },
  {
   "cell_type": "code",
   "execution_count": 70,
   "metadata": {},
   "outputs": [
    {
     "data": {
      "text/plain": [
       "(1088, 7)"
      ]
     },
     "execution_count": 70,
     "metadata": {},
     "output_type": "execute_result"
    }
   ],
   "source": [
    "#Not all the coins have massive market caps\n",
    "#Of the 1,078 coins, the vast majority are below $10mn\n",
    "crypto.shape"
   ]
  },
  {
   "cell_type": "code",
   "execution_count": 71,
   "metadata": {},
   "outputs": [
    {
     "data": {
      "text/plain": [
       "Text(0.5,1,'Histogram of Coins with Market Cap Below $10mn')"
      ]
     },
     "execution_count": 71,
     "metadata": {},
     "output_type": "execute_result"
    },
    {
     "data": {
      "image/png": "[encoded data removed]",
      "text/plain": [
       "<matplotlib.figure.Figure at 0x10da1bfd0>"
      ]
     },
     "metadata": {},
     "output_type": "display_data"
    }
   ],
   "source": [
    "plt.hist(crypto['MCap'][crypto.MCap <= 0.01], bins= 10, edgecolor = 'k')\n",
    "plt.xlabel('Market Cap ($bn)')\n",
    "plt.ylabel('Count')\n",
    "plt.title('Histogram of Coins with Market Cap Below $10mn')"
   ]
  },
  {
   "cell_type": "code",
   "execution_count": 72,
   "metadata": {
    "collapsed": true
   },
   "outputs": [],
   "source": [
    "#Let's look at only the largest coins outstanding\n",
    "Top = crypto[crypto['MCap'] > 1] #W/ market caps above $1bn\n",
    "Top.index = Top['Name']\n",
    "Top = Top.iloc[:,1:7]"
   ]
  },
  {
   "cell_type": "code",
   "execution_count": 73,
   "metadata": {},
   "outputs": [
    {
     "data": {
      "text/plain": [
       "Text(0.5,1,'Top 10 Crypto Currencies')"
      ]
     },
     "execution_count": 73,
     "metadata": {},
     "output_type": "execute_result"
    },
    {
     "data": {
      "image/png": "[encoded data removed]",
      "text/plain": [
       "<matplotlib.figure.Figure at 0x11545c7b8>"
      ]
     },
     "metadata": {},
     "output_type": "display_data"
    }
   ],
   "source": [
    "Top['MCap'].sort_values(ascending = False).head(10).plot.bar()\n",
    "plt.ylabel('Market Cap (USDbn)')\n",
    "plt.title('Top 10 Crypto Currencies')"
   ]
  },
  {
   "cell_type": "code",
   "execution_count": 74,
   "metadata": {
    "collapsed": true
   },
   "outputs": [],
   "source": [
    "ZTop = np.zeros(Top.shape[0])\n",
    "ZTop[0] = 0.2\n",
    "ZTop\n",
    "my_list=['']*len(Top.Symbol[5:])\n",
    "my_list\n",
    "SymbPie = np.concatenate((Top.index[0:5],my_list),axis = 0)\n"
   ]
  },
  {
   "cell_type": "code",
   "execution_count": 75,
   "metadata": {
    "collapsed": true
   },
   "outputs": [],
   "source": [
    "def my_autopct(pct):\n",
    "    return ('%1.1f%%' % pct) if pct > 2.5 else ''"
   ]
  },
  {
   "cell_type": "code",
   "execution_count": 76,
   "metadata": {},
   "outputs": [
    {
     "data": {
      "text/plain": [
       "Text(0.5,1,'Market Cap Weights of Largest Coins')"
      ]
     },
     "execution_count": 76,
     "metadata": {},
     "output_type": "execute_result"
    },
    {
     "data": {
      "image/png": "[encoded data removed]",
      "text/plain": [
       "<matplotlib.figure.Figure at 0x1154bc8d0>"
      ]
     },
     "metadata": {},
     "output_type": "display_data"
    }
   ],
   "source": [
    "plt.pie(Top['MCap'],explode = ZTop, labels = SymbPie, autopct = my_autopct, pctdistance = 1.2, labeldistance = 1.4, shadow = True, startangle = 100)\n",
    "plt.axis('equal')\n",
    "plt.title('Market Cap Weights of Largest Coins')"
   ]
  },
  {
   "cell_type": "code",
   "execution_count": 77,
   "metadata": {},
   "outputs": [
    {
     "data": {
      "text/html": [
       "<div>\n",
       "<style>\n",
       "    .dataframe thead tr:only-child th {\n",
       "        text-align: right;\n",
       "    }\n",
       "\n",
       "    .dataframe thead th {\n",
       "        text-align: left;\n",
       "    }\n",
       "\n",
       "    .dataframe tbody tr th {\n",
       "        vertical-align: top;\n",
       "    }\n",
       "</style>\n",
       "<table border=\"1\" class=\"dataframe\">\n",
       "  <thead>\n",
       "    <tr style=\"text-align: right;\">\n",
       "      <th></th>\n",
       "      <th>Symbol</th>\n",
       "      <th>MCap</th>\n",
       "      <th>Price</th>\n",
       "      <th>Vol</th>\n",
       "      <th>CSupply</th>\n",
       "      <th>DayChg</th>\n",
       "      <th>positive</th>\n",
       "    </tr>\n",
       "    <tr>\n",
       "      <th>Name</th>\n",
       "      <th></th>\n",
       "      <th></th>\n",
       "      <th></th>\n",
       "      <th></th>\n",
       "      <th></th>\n",
       "      <th></th>\n",
       "      <th></th>\n",
       "    </tr>\n",
       "  </thead>\n",
       "  <tbody>\n",
       "    <tr>\n",
       "      <th>Bitcoin</th>\n",
       "      <td>BTC</td>\n",
       "      <td>157.365985</td>\n",
       "      <td>9330.79000</td>\n",
       "      <td>7.594760e+09</td>\n",
       "      <td>1.686524e+07</td>\n",
       "      <td>7.56059</td>\n",
       "      <td>True</td>\n",
       "    </tr>\n",
       "    <tr>\n",
       "      <th>Ethereum</th>\n",
       "      <td>ETH</td>\n",
       "      <td>88.749809</td>\n",
       "      <td>909.16400</td>\n",
       "      <td>2.712640e+09</td>\n",
       "      <td>9.761694e+07</td>\n",
       "      <td>7.23674</td>\n",
       "      <td>True</td>\n",
       "    </tr>\n",
       "    <tr>\n",
       "      <th>Ripple</th>\n",
       "      <td>XRP</td>\n",
       "      <td>45.093093</td>\n",
       "      <td>1.15596</td>\n",
       "      <td>1.279590e+09</td>\n",
       "      <td>3.900922e+10</td>\n",
       "      <td>12.17690</td>\n",
       "      <td>True</td>\n",
       "    </tr>\n",
       "    <tr>\n",
       "      <th>Bitcoin Cash</th>\n",
       "      <td>BCH</td>\n",
       "      <td>22.672650</td>\n",
       "      <td>1336.23000</td>\n",
       "      <td>6.079260e+08</td>\n",
       "      <td>1.696762e+07</td>\n",
       "      <td>7.75265</td>\n",
       "      <td>True</td>\n",
       "    </tr>\n",
       "    <tr>\n",
       "      <th>Litecoin</th>\n",
       "      <td>LTC</td>\n",
       "      <td>11.512996</td>\n",
       "      <td>208.50000</td>\n",
       "      <td>2.250840e+09</td>\n",
       "      <td>5.521821e+07</td>\n",
       "      <td>30.81200</td>\n",
       "      <td>True</td>\n",
       "    </tr>\n",
       "  </tbody>\n",
       "</table>\n",
       "</div>"
      ],
      "text/plain": [
       "             Symbol        MCap       Price           Vol       CSupply  \\\n",
       "Name                                                                      \n",
       "Bitcoin         BTC  157.365985  9330.79000  7.594760e+09  1.686524e+07   \n",
       "Ethereum        ETH   88.749809   909.16400  2.712640e+09  9.761694e+07   \n",
       "Ripple          XRP   45.093093     1.15596  1.279590e+09  3.900922e+10   \n",
       "Bitcoin Cash    BCH   22.672650  1336.23000  6.079260e+08  1.696762e+07   \n",
       "Litecoin        LTC   11.512996   208.50000  2.250840e+09  5.521821e+07   \n",
       "\n",
       "                DayChg  positive  \n",
       "Name                              \n",
       "Bitcoin        7.56059      True  \n",
       "Ethereum       7.23674      True  \n",
       "Ripple        12.17690      True  \n",
       "Bitcoin Cash   7.75265      True  \n",
       "Litecoin      30.81200      True  "
      ]
     },
     "execution_count": 77,
     "metadata": {},
     "output_type": "execute_result"
    }
   ],
   "source": [
    "Top['positive'] = Top['DayChg'] > 0\n",
    "Top.head()"
   ]
  },
  {
   "cell_type": "code",
   "execution_count": 41,
   "metadata": {},
   "outputs": [
    {
     "data": {
      "text/html": [
       "<div>\n",
       "<style>\n",
       "    .dataframe thead tr:only-child th {\n",
       "        text-align: right;\n",
       "    }\n",
       "\n",
       "    .dataframe thead th {\n",
       "        text-align: left;\n",
       "    }\n",
       "\n",
       "    .dataframe tbody tr th {\n",
       "        vertical-align: top;\n",
       "    }\n",
       "</style>\n",
       "<table border=\"1\" class=\"dataframe\">\n",
       "  <thead>\n",
       "    <tr style=\"text-align: right;\">\n",
       "      <th></th>\n",
       "      <th>Symbol</th>\n",
       "      <th>MCap</th>\n",
       "      <th>Price</th>\n",
       "      <th>Vol</th>\n",
       "      <th>CSupply</th>\n",
       "      <th>DayChg</th>\n",
       "      <th>positive</th>\n",
       "      <th>color</th>\n",
       "    </tr>\n",
       "    <tr>\n",
       "      <th>Name</th>\n",
       "      <th></th>\n",
       "      <th></th>\n",
       "      <th></th>\n",
       "      <th></th>\n",
       "      <th></th>\n",
       "      <th></th>\n",
       "      <th></th>\n",
       "      <th></th>\n",
       "    </tr>\n",
       "  </thead>\n",
       "  <tbody>\n",
       "    <tr>\n",
       "      <th>Bitcoin</th>\n",
       "      <td>BTC</td>\n",
       "      <td>157.365985</td>\n",
       "      <td>9330.790000</td>\n",
       "      <td>7.594760e+09</td>\n",
       "      <td>1.686524e+07</td>\n",
       "      <td>7.560590</td>\n",
       "      <td>True</td>\n",
       "      <td>green</td>\n",
       "    </tr>\n",
       "    <tr>\n",
       "      <th>Ethereum</th>\n",
       "      <td>ETH</td>\n",
       "      <td>88.749809</td>\n",
       "      <td>909.164000</td>\n",
       "      <td>2.712640e+09</td>\n",
       "      <td>9.761694e+07</td>\n",
       "      <td>7.236740</td>\n",
       "      <td>True</td>\n",
       "      <td>green</td>\n",
       "    </tr>\n",
       "    <tr>\n",
       "      <th>Ripple</th>\n",
       "      <td>XRP</td>\n",
       "      <td>45.093093</td>\n",
       "      <td>1.155960</td>\n",
       "      <td>1.279590e+09</td>\n",
       "      <td>3.900922e+10</td>\n",
       "      <td>12.176900</td>\n",
       "      <td>True</td>\n",
       "      <td>green</td>\n",
       "    </tr>\n",
       "    <tr>\n",
       "      <th>Bitcoin Cash</th>\n",
       "      <td>BCH</td>\n",
       "      <td>22.672650</td>\n",
       "      <td>1336.230000</td>\n",
       "      <td>6.079260e+08</td>\n",
       "      <td>1.696762e+07</td>\n",
       "      <td>7.752650</td>\n",
       "      <td>True</td>\n",
       "      <td>green</td>\n",
       "    </tr>\n",
       "    <tr>\n",
       "      <th>Litecoin</th>\n",
       "      <td>LTC</td>\n",
       "      <td>11.512996</td>\n",
       "      <td>208.500000</td>\n",
       "      <td>2.250840e+09</td>\n",
       "      <td>5.521821e+07</td>\n",
       "      <td>30.812000</td>\n",
       "      <td>True</td>\n",
       "      <td>green</td>\n",
       "    </tr>\n",
       "    <tr>\n",
       "      <th>Cardano</th>\n",
       "      <td>ADA</td>\n",
       "      <td>10.103079</td>\n",
       "      <td>0.389673</td>\n",
       "      <td>2.777030e+08</td>\n",
       "      <td>2.592707e+10</td>\n",
       "      <td>3.823370</td>\n",
       "      <td>True</td>\n",
       "      <td>green</td>\n",
       "    </tr>\n",
       "    <tr>\n",
       "      <th>Stellar</th>\n",
       "      <td>XLM</td>\n",
       "      <td>8.238710</td>\n",
       "      <td>0.446844</td>\n",
       "      <td>1.994920e+08</td>\n",
       "      <td>1.843755e+10</td>\n",
       "      <td>6.827650</td>\n",
       "      <td>True</td>\n",
       "      <td>green</td>\n",
       "    </tr>\n",
       "    <tr>\n",
       "      <th>NEO</th>\n",
       "      <td>NEO</td>\n",
       "      <td>7.734090</td>\n",
       "      <td>118.986000</td>\n",
       "      <td>2.171160e+08</td>\n",
       "      <td>6.500000e+07</td>\n",
       "      <td>6.592510</td>\n",
       "      <td>True</td>\n",
       "      <td>green</td>\n",
       "    </tr>\n",
       "    <tr>\n",
       "      <th>EOS</th>\n",
       "      <td>EOS</td>\n",
       "      <td>6.577018</td>\n",
       "      <td>9.825580</td>\n",
       "      <td>4.924400e+08</td>\n",
       "      <td>6.693771e+08</td>\n",
       "      <td>7.805980</td>\n",
       "      <td>True</td>\n",
       "      <td>green</td>\n",
       "    </tr>\n",
       "    <tr>\n",
       "      <th>IOTA</th>\n",
       "      <td>MIOTA</td>\n",
       "      <td>5.551083</td>\n",
       "      <td>1.997130</td>\n",
       "      <td>5.098640e+07</td>\n",
       "      <td>2.779530e+09</td>\n",
       "      <td>10.225100</td>\n",
       "      <td>True</td>\n",
       "      <td>green</td>\n",
       "    </tr>\n",
       "    <tr>\n",
       "      <th>Dash</th>\n",
       "      <td>DASH</td>\n",
       "      <td>5.257299</td>\n",
       "      <td>666.801000</td>\n",
       "      <td>1.359460e+08</td>\n",
       "      <td>7.884360e+06</td>\n",
       "      <td>10.506700</td>\n",
       "      <td>True</td>\n",
       "      <td>green</td>\n",
       "    </tr>\n",
       "    <tr>\n",
       "      <th>NEM</th>\n",
       "      <td>XEM</td>\n",
       "      <td>4.993326</td>\n",
       "      <td>0.554814</td>\n",
       "      <td>7.261950e+07</td>\n",
       "      <td>9.000000e+09</td>\n",
       "      <td>3.547550</td>\n",
       "      <td>True</td>\n",
       "      <td>green</td>\n",
       "    </tr>\n",
       "    <tr>\n",
       "      <th>Monero</th>\n",
       "      <td>XMR</td>\n",
       "      <td>4.197522</td>\n",
       "      <td>266.986000</td>\n",
       "      <td>1.105680e+08</td>\n",
       "      <td>1.572188e+07</td>\n",
       "      <td>13.092700</td>\n",
       "      <td>True</td>\n",
       "      <td>green</td>\n",
       "    </tr>\n",
       "    <tr>\n",
       "      <th>Ethereum Classic</th>\n",
       "      <td>ETC</td>\n",
       "      <td>3.388516</td>\n",
       "      <td>33.932700</td>\n",
       "      <td>1.020800e+09</td>\n",
       "      <td>9.985990e+07</td>\n",
       "      <td>-0.624015</td>\n",
       "      <td>False</td>\n",
       "      <td>red</td>\n",
       "    </tr>\n",
       "    <tr>\n",
       "      <th>Lisk</th>\n",
       "      <td>LSK</td>\n",
       "      <td>3.322471</td>\n",
       "      <td>28.140000</td>\n",
       "      <td>8.669240e+07</td>\n",
       "      <td>1.180693e+08</td>\n",
       "      <td>4.148400</td>\n",
       "      <td>True</td>\n",
       "      <td>green</td>\n",
       "    </tr>\n",
       "    <tr>\n",
       "      <th>TRON</th>\n",
       "      <td>TRX</td>\n",
       "      <td>2.990307</td>\n",
       "      <td>0.045481</td>\n",
       "      <td>1.823480e+08</td>\n",
       "      <td>6.574819e+10</td>\n",
       "      <td>4.446010</td>\n",
       "      <td>True</td>\n",
       "      <td>green</td>\n",
       "    </tr>\n",
       "    <tr>\n",
       "      <th>Qtum</th>\n",
       "      <td>QTUM</td>\n",
       "      <td>2.374790</td>\n",
       "      <td>32.143100</td>\n",
       "      <td>3.197050e+08</td>\n",
       "      <td>7.388179e+07</td>\n",
       "      <td>7.166150</td>\n",
       "      <td>True</td>\n",
       "      <td>green</td>\n",
       "    </tr>\n",
       "    <tr>\n",
       "      <th>VeChain</th>\n",
       "      <td>VEN</td>\n",
       "      <td>2.219107</td>\n",
       "      <td>4.713160</td>\n",
       "      <td>4.677530e+07</td>\n",
       "      <td>4.708321e+08</td>\n",
       "      <td>11.077800</td>\n",
       "      <td>True</td>\n",
       "      <td>green</td>\n",
       "    </tr>\n",
       "    <tr>\n",
       "      <th>Tether</th>\n",
       "      <td>USDT</td>\n",
       "      <td>2.218671</td>\n",
       "      <td>1.000690</td>\n",
       "      <td>2.959640e+09</td>\n",
       "      <td>2.217141e+09</td>\n",
       "      <td>-0.087826</td>\n",
       "      <td>False</td>\n",
       "      <td>red</td>\n",
       "    </tr>\n",
       "    <tr>\n",
       "      <th>Bitcoin Gold</th>\n",
       "      <td>BTG</td>\n",
       "      <td>2.137790</td>\n",
       "      <td>127.066000</td>\n",
       "      <td>8.611200e+07</td>\n",
       "      <td>1.682425e+07</td>\n",
       "      <td>5.062590</td>\n",
       "      <td>True</td>\n",
       "      <td>green</td>\n",
       "    </tr>\n",
       "    <tr>\n",
       "      <th>ICON</th>\n",
       "      <td>ICX</td>\n",
       "      <td>1.665954</td>\n",
       "      <td>4.366910</td>\n",
       "      <td>4.498910e+07</td>\n",
       "      <td>3.814950e+08</td>\n",
       "      <td>8.991600</td>\n",
       "      <td>True</td>\n",
       "      <td>green</td>\n",
       "    </tr>\n",
       "    <tr>\n",
       "      <th>OmiseGO</th>\n",
       "      <td>OMG</td>\n",
       "      <td>1.589884</td>\n",
       "      <td>15.580600</td>\n",
       "      <td>9.078540e+07</td>\n",
       "      <td>1.020426e+08</td>\n",
       "      <td>21.398100</td>\n",
       "      <td>True</td>\n",
       "      <td>green</td>\n",
       "    </tr>\n",
       "    <tr>\n",
       "      <th>Zcash</th>\n",
       "      <td>ZEC</td>\n",
       "      <td>1.570391</td>\n",
       "      <td>478.868000</td>\n",
       "      <td>9.395690e+07</td>\n",
       "      <td>3.279381e+06</td>\n",
       "      <td>6.171430</td>\n",
       "      <td>True</td>\n",
       "      <td>green</td>\n",
       "    </tr>\n",
       "    <tr>\n",
       "      <th>Nano</th>\n",
       "      <td>XRB</td>\n",
       "      <td>1.174926</td>\n",
       "      <td>8.817570</td>\n",
       "      <td>2.984580e+07</td>\n",
       "      <td>1.332483e+08</td>\n",
       "      <td>-1.936240</td>\n",
       "      <td>False</td>\n",
       "      <td>red</td>\n",
       "    </tr>\n",
       "    <tr>\n",
       "      <th>Steem</th>\n",
       "      <td>STEEM</td>\n",
       "      <td>1.086362</td>\n",
       "      <td>4.355870</td>\n",
       "      <td>2.496420e+07</td>\n",
       "      <td>2.494017e+08</td>\n",
       "      <td>4.592330</td>\n",
       "      <td>True</td>\n",
       "      <td>green</td>\n",
       "    </tr>\n",
       "  </tbody>\n",
       "</table>\n",
       "</div>"
      ],
      "text/plain": [
       "                 Symbol        MCap        Price           Vol       CSupply  \\\n",
       "Name                                                                           \n",
       "Bitcoin             BTC  157.365985  9330.790000  7.594760e+09  1.686524e+07   \n",
       "Ethereum            ETH   88.749809   909.164000  2.712640e+09  9.761694e+07   \n",
       "Ripple              XRP   45.093093     1.155960  1.279590e+09  3.900922e+10   \n",
       "Bitcoin Cash        BCH   22.672650  1336.230000  6.079260e+08  1.696762e+07   \n",
       "Litecoin            LTC   11.512996   208.500000  2.250840e+09  5.521821e+07   \n",
       "Cardano             ADA   10.103079     0.389673  2.777030e+08  2.592707e+10   \n",
       "Stellar             XLM    8.238710     0.446844  1.994920e+08  1.843755e+10   \n",
       "NEO                 NEO    7.734090   118.986000  2.171160e+08  6.500000e+07   \n",
       "EOS                 EOS    6.577018     9.825580  4.924400e+08  6.693771e+08   \n",
       "IOTA              MIOTA    5.551083     1.997130  5.098640e+07  2.779530e+09   \n",
       "Dash               DASH    5.257299   666.801000  1.359460e+08  7.884360e+06   \n",
       "NEM                 XEM    4.993326     0.554814  7.261950e+07  9.000000e+09   \n",
       "Monero              XMR    4.197522   266.986000  1.105680e+08  1.572188e+07   \n",
       "Ethereum Classic    ETC    3.388516    33.932700  1.020800e+09  9.985990e+07   \n",
       "Lisk                LSK    3.322471    28.140000  8.669240e+07  1.180693e+08   \n",
       "TRON                TRX    2.990307     0.045481  1.823480e+08  6.574819e+10   \n",
       "Qtum               QTUM    2.374790    32.143100  3.197050e+08  7.388179e+07   \n",
       "VeChain             VEN    2.219107     4.713160  4.677530e+07  4.708321e+08   \n",
       "Tether             USDT    2.218671     1.000690  2.959640e+09  2.217141e+09   \n",
       "Bitcoin Gold        BTG    2.137790   127.066000  8.611200e+07  1.682425e+07   \n",
       "ICON                ICX    1.665954     4.366910  4.498910e+07  3.814950e+08   \n",
       "OmiseGO             OMG    1.589884    15.580600  9.078540e+07  1.020426e+08   \n",
       "Zcash               ZEC    1.570391   478.868000  9.395690e+07  3.279381e+06   \n",
       "Nano                XRB    1.174926     8.817570  2.984580e+07  1.332483e+08   \n",
       "Steem             STEEM    1.086362     4.355870  2.496420e+07  2.494017e+08   \n",
       "\n",
       "                     DayChg  positive  color  \n",
       "Name                                          \n",
       "Bitcoin            7.560590      True  green  \n",
       "Ethereum           7.236740      True  green  \n",
       "Ripple            12.176900      True  green  \n",
       "Bitcoin Cash       7.752650      True  green  \n",
       "Litecoin          30.812000      True  green  \n",
       "Cardano            3.823370      True  green  \n",
       "Stellar            6.827650      True  green  \n",
       "NEO                6.592510      True  green  \n",
       "EOS                7.805980      True  green  \n",
       "IOTA              10.225100      True  green  \n",
       "Dash              10.506700      True  green  \n",
       "NEM                3.547550      True  green  \n",
       "Monero            13.092700      True  green  \n",
       "Ethereum Classic  -0.624015     False    red  \n",
       "Lisk               4.148400      True  green  \n",
       "TRON               4.446010      True  green  \n",
       "Qtum               7.166150      True  green  \n",
       "VeChain           11.077800      True  green  \n",
       "Tether            -0.087826     False    red  \n",
       "Bitcoin Gold       5.062590      True  green  \n",
       "ICON               8.991600      True  green  \n",
       "OmiseGO           21.398100      True  green  \n",
       "Zcash              6.171430      True  green  \n",
       "Nano              -1.936240     False    red  \n",
       "Steem              4.592330      True  green  "
      ]
     },
     "execution_count": 41,
     "metadata": {},
     "output_type": "execute_result"
    }
   ],
   "source": [
    "Top['color'] = Top.DayChg.apply(lambda x: 'green' if x > 0 else 'red')\n",
    "Top"
   ]
  },
  {
   "cell_type": "code",
   "execution_count": 78,
   "metadata": {},
   "outputs": [
    {
     "data": {
      "text/plain": [
       "Text(0.5,1,\"Largest Crypto Currencies' performance\")"
      ]
     },
     "execution_count": 78,
     "metadata": {},
     "output_type": "execute_result"
    },
    {
     "data": {
      "image/png": "[encoded data removed]",
      "text/plain": [
       "<matplotlib.figure.Figure at 0x1154f4ef0>"
      ]
     },
     "metadata": {},
     "output_type": "display_data"
    }
   ],
   "source": [
    "Top['DayChg'].sort_values(ascending = False).plot.bar(color=Top['positive'].map({True: 'green', False: 'red'}))\n",
    "plt.ylabel('Daily (% Chg)')\n",
    "plt.title('Largest Crypto Currencies\\' performance')"
   ]
  },
  {
   "cell_type": "code",
   "execution_count": 104,
   "metadata": {},
   "outputs": [
    {
     "data": {
      "text/plain": [
       "Text(0.5,1,\"Largest Crypto Currencies' performance\")"
      ]
     },
     "execution_count": 104,
     "metadata": {},
     "output_type": "execute_result"
    },
    {
     "data": {
      "image/png": "[encoded data removed]",
      "text/plain": [
       "<matplotlib.figure.Figure at 0x116421da0>"
      ]
     },
     "metadata": {},
     "output_type": "display_data"
    }
   ],
   "source": [
    "Top['DayChg'].sort_values(ascending = False).plot.bar(color = AaronColor)\n",
    "plt.ylabel('Daily (% Chg)')\n",
    "plt.title('Largest Crypto Currencies\\' performance')"
   ]
  },
  {
   "cell_type": "code",
   "execution_count": 97,
   "metadata": {
    "collapsed": true
   },
   "outputs": [],
   "source": [
    "AaronColor = ['red' if c < 0 else 'green' for c in AaronTop]"
   ]
  },
  {
   "cell_type": "code",
   "execution_count": 258,
   "metadata": {},
   "outputs": [
    {
     "data": {
      "text/plain": [
       "Name\n",
       "Bitcoin               red\n",
       "Ethereum              red\n",
       "Ripple                red\n",
       "Bitcoin Cash          red\n",
       "Cardano               red\n",
       "Litecoin              red\n",
       "Stellar             green\n",
       "NEO                   red\n",
       "EOS                 green\n",
       "IOTA                  red\n",
       "NEM                   red\n",
       "Dash                  red\n",
       "Monero                red\n",
       "Ethereum Classic    green\n",
       "Lisk                  red\n",
       "TRON                  red\n",
       "Qtum                green\n",
       "Tether                red\n",
       "Bitcoin Gold        green\n",
       "VeChain               red\n",
       "ICON                  red\n",
       "Zcash                 red\n",
       "OmiseGO             green\n",
       "Nano                  red\n",
       "Steem                 red\n",
       "Name: color, dtype: object"
      ]
     },
     "execution_count": 258,
     "metadata": {},
     "output_type": "execute_result"
    }
   ],
   "source": [
    "Top.color"
   ]
  },
  {
   "cell_type": "code",
   "execution_count": 105,
   "metadata": {},
   "outputs": [
    {
     "data": {
      "text/plain": [
       "Text(0.5,1,\"Largest Crypto Currencies' performance\")"
      ]
     },
     "execution_count": 105,
     "metadata": {},
     "output_type": "execute_result"
    },
    {
     "data": {
      "image/png": "[encoded data removed]",
      "text/plain": [
       "<matplotlib.figure.Figure at 0x1162b9a58>"
      ]
     },
     "metadata": {},
     "output_type": "display_data"
    }
   ],
   "source": [
    "AaronTop = Top['DayChg'].sort_values(ascending = False)\n",
    "plt.bar(np.arange(AaronTop.shape[0]),AaronTop,color = AaronColor)\n",
    "plt.xticks(np.arange(AaronTop.shape[0]),AaronTop.index, rotation = 60, ha = 'right')\n",
    "plt.ylabel('Daily (% Chg)')\n",
    "plt.title('Largest Crypto Currencies\\' performance')"
   ]
  },
  {
   "cell_type": "code",
   "execution_count": 93,
   "metadata": {},
   "outputs": [
    {
     "ename": "NameError",
     "evalue": "name 'dim' is not defined",
     "output_type": "error",
     "traceback": [
      "\u001b[0;31m---------------------------------------------------------------------------\u001b[0m",
      "\u001b[0;31mNameError\u001b[0m                                 Traceback (most recent call last)",
      "\u001b[0;32m<ipython-input-93-e93e96704936>\u001b[0m in \u001b[0;36m<module>\u001b[0;34m()\u001b[0m\n\u001b[0;32m----> 1\u001b[0;31m \u001b[0mdim\u001b[0m\u001b[0;34m(\u001b[0m\u001b[0mAAronTop\u001b[0m\u001b[0;34m)\u001b[0m\u001b[0;34m\u001b[0m\u001b[0m\n\u001b[0m",
      "\u001b[0;31mNameError\u001b[0m: name 'dim' is not defined"
     ]
    }
   ],
   "source": [
    "dim(AAronTop)"
   ]
  },
  {
   "cell_type": "code",
   "execution_count": null,
   "metadata": {
    "collapsed": true
   },
   "outputs": [],
   "source": []
  }
 ],
 "metadata": {
  "kernelspec": {
   "display_name": "Python 3",
   "language": "python",
   "name": "python3"
  },
  "language_info": {
   "codemirror_mode": {
    "name": "ipython",
    "version": 3
   },
   "file_extension": ".py",
   "mimetype": "text/x-python",
   "name": "python",
   "nbconvert_exporter": "python",
   "pygments_lexer": "ipython3",
   "version": "3.6.3"
  }
 },
 "nbformat": 4,
 "nbformat_minor": 2
}
